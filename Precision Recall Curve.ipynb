{
 "cells": [
  {
   "cell_type": "markdown",
   "id": "a6541957",
   "metadata": {},
   "source": [
    "## Motive\n",
    "\n",
    "- In this notebook we will understand more about the Precision Recall curve\n",
    "- When to use ROC curve and when to use Precision Recall curve.\n",
    " \n",
    "- We will be using Unbalanced Dataset for this "
   ]
  },
  {
   "cell_type": "code",
   "execution_count": 1,
   "id": "6ab182d8",
   "metadata": {},
   "outputs": [],
   "source": [
    "from sklearn.datasets import make_classification\n",
    "from sklearn.linear_model import LogisticRegression\n",
    "from sklearn.model_selection import train_test_split\n",
    "from sklearn.metrics import roc_curve\n",
    "from sklearn.metrics import roc_auc_score\n",
    "import matplotlib.pyplot as plt\n",
    "import seaborn as sns\n",
    "import pandas as pd\n",
    "import numpy as np\n",
    "\n",
    "from sklearn.metrics import precision_recall_curve\n",
    "from sklearn.metrics import f1_score\n",
    "from sklearn.metrics import auc\n",
    "from numpy import sqrt\n",
    "from numpy import argmax\n",
    "\n",
    "from sklearn.metrics import confusion_matrix,classification_report"
   ]
  },
  {
   "cell_type": "markdown",
   "id": "4e58e3a5",
   "metadata": {},
   "source": [
    "#### Difference btw ROC & Precision Recall Curve.\n",
    "\n",
    "1. \n",
    "    a.**ROC Curve** represent the trade off between TRP & FPR\n",
    "   \n",
    "    b.**Precision Recall Curve** represent the trade off between Recall(TRP) and Positive prediction by our model.\n",
    "   \n",
    "\n",
    "2. a. **ROC Curve** is usualy used for balanced dataset.\n",
    "\n",
    "   b. **Precision Recall Curve** is preferred for unbalanced dataset."
   ]
  },
  {
   "cell_type": "markdown",
   "id": "4c367456",
   "metadata": {},
   "source": [
    "**NOTE:** We can calculate **AUC** score for both the plots. It is used as a summary of the model skill."
   ]
  },
  {
   "cell_type": "markdown",
   "id": "3dae1a58",
   "metadata": {},
   "source": [
    "#### More on Precision Recall Curve\n",
    "\n",
    "Precision Recall Curve is generally preferred for unbalanced dataset. The reason is as follows:\n",
    "\n",
    "- The large majority class of 0 means that we have **high TN**\n",
    "- And as we can see from the formula that we are never really using **TN** in the formula for both Precision & Recall.It is only concerned with the **correct prediction of the minority class, class 1**"
   ]
  },
  {
   "cell_type": "code",
   "execution_count": 15,
   "id": "bc39ec37",
   "metadata": {},
   "outputs": [],
   "source": [
    "X, y = make_classification(n_samples=1000, n_classes=2, weights=[0.99,0.01], random_state=1)\n",
    "# split into train/test sets\n",
    "trainX, testX, trainy, testy = train_test_split(X, y, test_size=0.5, random_state=2)"
   ]
  },
  {
   "cell_type": "code",
   "execution_count": 16,
   "id": "dc7e49f8",
   "metadata": {},
   "outputs": [
    {
     "data": {
      "image/png": "[encoded data removed]",
      "text/plain": [
       "<Figure size 432x288 with 1 Axes>"
      ]
     },
     "metadata": {
      "needs_background": "light"
     },
     "output_type": "display_data"
    }
   ],
   "source": [
    "sns.countplot(y)\n",
    "\n",
    "plt.savefig('1.png')\n",
    "# show the plot\n",
    "plt.show()"
   ]
  },
  {
   "cell_type": "code",
   "execution_count": 8,
   "id": "a5583b03",
   "metadata": {},
   "outputs": [],
   "source": [
    "model = LogisticRegression(solver='lbfgs')\n",
    "model.fit(trainX, trainy)\n",
    "\n",
    "# predict class values\n",
    "yhat = model.predict(testX)"
   ]
  },
  {
   "cell_type": "code",
   "execution_count": 9,
   "id": "2ae08742",
   "metadata": {},
   "outputs": [],
   "source": [
    "def print_metric(y_test,y_pred):\n",
    "    ((tn, fp), (fn, tp)) = confusion_matrix(y_test,y_pred)\n",
    "    ((tnr,fpr),(fnr,tpr))= confusion_matrix(y_test,y_pred, normalize='true')\n",
    "    res=pd.DataFrame([[f'TN = {tn} (TNR = {tnr:1.2%})', \n",
    "                                f'FP = {fp} (FPR = {fpr:1.2%})'], \n",
    "                         [f'FN = {fn} (FNR = {fnr:1.2%})', \n",
    "                                f'TP = {tp} (TPR = {tpr:1.2%})']],\n",
    "            index=['True 0', 'True 1'], \n",
    "            columns=['Pred 0', \n",
    "                            'Pred 1'])\n",
    "    print(res)"
   ]
  },
  {
   "cell_type": "code",
   "execution_count": 10,
   "id": "21c28b6e",
   "metadata": {},
   "outputs": [
    {
     "name": "stdout",
     "output_type": "stream",
     "text": [
      "                          Pred 0                Pred 1\n",
      "True 0  TN = 489 (TNR = 100.00%)  FP = 0 (FPR = 0.00%)\n",
      "True 1   FN = 11 (FNR = 100.00%)  TP = 0 (TPR = 0.00%)\n"
     ]
    }
   ],
   "source": [
    "print_metric(testy,yhat)"
   ]
  },
  {
   "cell_type": "markdown",
   "id": "e8fd42d1",
   "metadata": {},
   "source": [
    "##### We can see that our model being biased is able to predict only the Majority class=0"
   ]
  },
  {
   "cell_type": "markdown",
   "id": "47c8f8b7",
   "metadata": {},
   "source": [
    "#### ROC Curve for Unbalanced Dataset."
   ]
  },
  {
   "cell_type": "code",
   "execution_count": 11,
   "id": "76154c87",
   "metadata": {},
   "outputs": [
    {
     "name": "stdout",
     "output_type": "stream",
     "text": [
      "No Skill: ROC AUC=0.500\n",
      "Logistic: ROC AUC=0.716\n"
     ]
    },
    {
     "data": {
      "image/png": "[encoded data removed]",
      "text/plain": [
       "<Figure size 432x288 with 1 Axes>"
      ]
     },
     "metadata": {
      "needs_background": "light"
     },
     "output_type": "display_data"
    }
   ],
   "source": [
    "# generate a no skill prediction (majority class)\n",
    "ns_probs = [0 for _ in range(len(testy))]\n",
    "# fit a model\n",
    "model = LogisticRegression(solver='lbfgs')\n",
    "model.fit(trainX, trainy)\n",
    "# predict probabilities\n",
    "lr_probs = model.predict_proba(testX)\n",
    "# keep probabilities for the positive outcome only\n",
    "lr_probs = lr_probs[:, 1]\n",
    "# calculate scores\n",
    "ns_auc = roc_auc_score(testy, ns_probs)\n",
    "lr_auc = roc_auc_score(testy, lr_probs)\n",
    "# summarize scores\n",
    "print('No Skill: ROC AUC=%.3f' % (ns_auc))\n",
    "print('Logistic: ROC AUC=%.3f' % (lr_auc))\n",
    "# calculate roc curves\n",
    "ns_fpr, ns_tpr, _ = roc_curve(testy, ns_probs)\n",
    "lr_fpr, lr_tpr, _ = roc_curve(testy, lr_probs)\n",
    "# plot the roc curve for the model\n",
    "plt.plot(ns_fpr, ns_tpr, linestyle='--', label='No Skill')\n",
    "plt.plot(lr_fpr, lr_tpr, marker='.', label='Logistic')\n",
    "# axis labels\n",
    "plt.xlabel('False Positive Rate')\n",
    "plt.ylabel('True Positive Rate')\n",
    "# show the legend\n",
    "plt.legend()\n",
    "plt.title('ROC CURVE For Unbalanced Dataset')\n",
    "\n",
    "plt.savefig('2.png')\n",
    "# show the plot\n",
    "plt.show()"
   ]
  },
  {
   "cell_type": "code",
   "execution_count": 12,
   "id": "ac6c8ef4",
   "metadata": {},
   "outputs": [
    {
     "data": {
      "image/png": "[encoded data removed]",
      "text/plain": [
       "<Figure size 432x288 with 1 Axes>"
      ]
     },
     "metadata": {
      "needs_background": "light"
     },
     "output_type": "display_data"
    }
   ],
   "source": [
    "sns.countplot(model.predict(testX))\n",
    "\n",
    "plt.savefig('3.png')\n",
    "# show the plot\n",
    "plt.show()"
   ]
  },
  {
   "cell_type": "markdown",
   "id": "9fd54548",
   "metadata": {},
   "source": [
    "##### If we review the predictions, we will see that the model predicts the majority class (class 0) in all cases on the test set. The score is very misleading. \n",
    "This is happening because ROC Curve focuses majorily on majority class which in our case =0 hence we have high TN"
   ]
  },
  {
   "cell_type": "markdown",
   "id": "f41a67e8",
   "metadata": {},
   "source": [
    "#### Precision Recall Curve for Unbalanced Dataset."
   ]
  },
  {
   "cell_type": "code",
   "execution_count": 14,
   "id": "10b6a708",
   "metadata": {},
   "outputs": [
    {
     "name": "stdout",
     "output_type": "stream",
     "text": [
      "Logistic: f1=0.000 auc=0.054\n"
     ]
    },
    {
     "data": {
      "image/png": "[encoded data removed]",
      "text/plain": [
       "<Figure size 432x288 with 1 Axes>"
      ]
     },
     "metadata": {
      "needs_background": "light"
     },
     "output_type": "display_data"
    }
   ],
   "source": [
    "model = LogisticRegression(solver='lbfgs')\n",
    "model.fit(trainX, trainy)\n",
    "# predict probabilities\n",
    "lr_probs = model.predict_proba(testX)\n",
    "# keep probabilities for the positive outcome only\n",
    "lr_probs = lr_probs[:, 1]\n",
    "# predict class values\n",
    "yhat = model.predict(testX)\n",
    "# calculate precision and recall for each threshold\n",
    "lr_precision, lr_recall, _ = precision_recall_curve(testy, lr_probs)\n",
    "# calculate scores\n",
    "lr_f1, lr_auc = f1_score(testy, yhat), auc(lr_recall, lr_precision)\n",
    "# summarize scores\n",
    "print('Logistic: f1=%.3f auc=%.3f' % (lr_f1, lr_auc))\n",
    "# plot the precision-recall curves\n",
    "no_skill = len(testy[testy==1]) / len(testy)\n",
    "plt.plot([0, 1], [no_skill, no_skill], linestyle='--', label='No Skill')\n",
    "plt.plot(lr_recall, lr_precision, marker='.', label='Logistic')\n",
    "# axis labels\n",
    "plt.xlabel('Recall')\n",
    "plt.ylabel('Precision')\n",
    "# show the legend\n",
    "plt.legend()\n",
    "# show the plot\n",
    "\n",
    "plt.savefig('4.png')\n",
    "plt.show()"
   ]
  },
  {
   "cell_type": "markdown",
   "id": "8e50de15",
   "metadata": {},
   "source": [
    "#### Conclusion\n",
    "\n",
    "- We can see that From ROC curve we were getting an **AUC score of 0.716** on unbalanced dataset.While with Precision Recall curve we are actually getting **AUC score of 0.054**.\n",
    "\n",
    "- We can see that the model is penalized for predicting the majority class in all cases. The scores show that the model that looked good according to the ROC Curve is in fact barely skillful when considered using using precision and recall that focus on the positive class.\n",
    "\n",
    "- The plot of the precision-recall curve highlights that the model is just barely above the no skill line for most thresholds."
   ]
  },
  {
   "cell_type": "markdown",
   "id": "5c200e71",
   "metadata": {},
   "source": [
    "https://machinelearningmastery.com/roc-curves-and-precision-recall-curves-for-classification-in-python/"
   ]
  },
  {
   "cell_type": "code",
   "execution_count": null,
   "id": "ce9c6dd9",
   "metadata": {},
   "outputs": [],
   "source": []
  }
 ],
 "metadata": {
  "kernelspec": {
   "display_name": "Python 3",
   "language": "python",
   "name": "python3"
  },
  "language_info": {
   "codemirror_mode": {
    "name": "ipython",
    "version": 3
   },
   "file_extension": ".py",
   "mimetype": "text/x-python",
   "name": "python",
   "nbconvert_exporter": "python",
   "pygments_lexer": "ipython3",
   "version": "3.7.10"
  }
 },
 "nbformat": 4,
 "nbformat_minor": 5
}
